{
  "nbformat": 4,
  "nbformat_minor": 0,
  "metadata": {
    "colab": {
      "provenance": [],
      "authorship_tag": "ABX9TyPs/0Wg3RdtFJaZuXLmtHI3",
      "include_colab_link": true
    },
    "kernelspec": {
      "name": "python3",
      "display_name": "Python 3"
    },
    "language_info": {
      "name": "python"
    }
  },
  "cells": [
    {
      "cell_type": "markdown",
      "metadata": {
        "id": "view-in-github",
        "colab_type": "text"
      },
      "source": [
        "<a href=\"https://colab.research.google.com/github/Biki-ctrl/Diabetes-Disease-Progression-A-Statistical-Analysis./blob/main/Project_4_Diabetes.ipynb\" target=\"_parent\"><img src=\"https://colab.research.google.com/assets/colab-badge.svg\" alt=\"Open In Colab\"/></a>"
      ]
    },
    {
      "cell_type": "markdown",
      "source": [
        "**Name: Biki Beyene**\n",
        "\n",
        "#**Overview:**\n",
        "\n",
        "The objective of this study is to predict the progression of diabetes using quantitative measures one year after baseline. Two statistical models are employed to achieve this goal: linear regression and multiple regression. The independent variables used in the analysis include age, sex, and body mass index (BMI).\n",
        "\n",
        "Before proceeding with the regression analysis, the correlations between the independent variables were assessed. The linear regression model was used to examine the relationship between BMI and disease progression and to test the hypothesis that no such relationship exists. The hypothesis was either rejected or failed to be rejected based on the evaluation of various performance measures and statistical results.\n",
        "\n",
        "The multiple regression model was employed when multiple variables were believed to influence the dependent variable. The aim was to determine which variables significantly affect the dependent variable and which do not. The model was evaluated for its performance, and if found to be adequate, the independent variables were plugged into the regression formula to predict the dependent variable.\n",
        "\n",
        "In summary, this study aimed to predict the progression of diabetes using linear and multiple regression models and to examine the relationship between the independent variables and the dependent variable. The results of this study will contribute to a better understanding of the factors that influence the progression of diabetes.\n"
      ],
      "metadata": {
        "id": "RCkht6n0iBwx"
      }
    },
    {
      "cell_type": "code",
      "source": [
        "import matplotlib.pyplot as plt\n",
        "import numpy as np\n",
        "from sklearn import datasets, linear_model\n",
        "from sklearn.metrics import mean_squared_error, r2_score\n",
        "import pandas as pd\n",
        "\n",
        "# Load the diabetes dataset that is already scaled\n",
        "diabetes = datasets.load_diabetes()\n",
        "type(diabetes)\n"
      ],
      "metadata": {
        "colab": {
          "base_uri": "https://localhost:8080/"
        },
        "id": "fSKZzqfLpxwL",
        "outputId": "02a9b6aa-27ce-4e07-8089-3e3ae72e1e38"
      },
      "execution_count": null,
      "outputs": [
        {
          "output_type": "execute_result",
          "data": {
            "text/plain": [
              "sklearn.utils.Bunch"
            ]
          },
          "metadata": {},
          "execution_count": 3
        }
      ]
    },
    {
      "cell_type": "markdown",
      "source": [
        "#Data:\n"
      ],
      "metadata": {
        "id": "kiEN_RT5pVef"
      }
    },
    {
      "cell_type": "code",
      "source": [
        "#summary of numeric independent variables \n",
        "\n",
        "print(diabetes.DESCR)"
      ],
      "metadata": {
        "colab": {
          "base_uri": "https://localhost:8080/"
        },
        "id": "iVXHMxVUpYWQ",
        "outputId": "cd22ebbd-2159-4387-d142-987568748200"
      },
      "execution_count": null,
      "outputs": [
        {
          "output_type": "stream",
          "name": "stdout",
          "text": [
            ".. _diabetes_dataset:\n",
            "\n",
            "Diabetes dataset\n",
            "----------------\n",
            "\n",
            "Ten baseline variables, age, sex, body mass index, average blood\n",
            "pressure, and six blood serum measurements were obtained for each of n =\n",
            "442 diabetes patients, as well as the response of interest, a\n",
            "quantitative measure of disease progression one year after baseline.\n",
            "\n",
            "**Data Set Characteristics:**\n",
            "\n",
            "  :Number of Instances: 442\n",
            "\n",
            "  :Number of Attributes: First 10 columns are numeric predictive values\n",
            "\n",
            "  :Target: Column 11 is a quantitative measure of disease progression one year after baseline\n",
            "\n",
            "  :Attribute Information:\n",
            "      - age     age in years\n",
            "      - sex\n",
            "      - bmi     body mass index\n",
            "      - bp      average blood pressure\n",
            "      - s1      tc, total serum cholesterol\n",
            "      - s2      ldl, low-density lipoproteins\n",
            "      - s3      hdl, high-density lipoproteins\n",
            "      - s4      tch, total cholesterol / HDL\n",
            "      - s5      ltg, possibly log of serum triglycerides level\n",
            "      - s6      glu, blood sugar level\n",
            "\n",
            "Note: Each of these 10 feature variables have been mean centered and scaled by the standard deviation times `n_samples` (i.e. the sum of squares of each column totals 1).\n",
            "\n",
            "Source URL:\n",
            "https://www4.stat.ncsu.edu/~boos/var.select/diabetes.html\n",
            "\n",
            "For more information see:\n",
            "Bradley Efron, Trevor Hastie, Iain Johnstone and Robert Tibshirani (2004) \"Least Angle Regression,\" Annals of Statistics (with discussion), 407-499.\n",
            "(https://web.stanford.edu/~hastie/Papers/LARS/LeastAngle_2002.pdf)\n"
          ]
        }
      ]
    },
    {
      "cell_type": "markdown",
      "source": [
        "#EDA:"
      ],
      "metadata": {
        "id": "4egc6Z5St8Cy"
      }
    },
    {
      "cell_type": "code",
      "source": [
        "#SHAPE\n",
        "df = pd.DataFrame(diabetes.data, columns=diabetes.feature_names)\n",
        "\n",
        "    \n",
        "df.shape"
      ],
      "metadata": {
        "colab": {
          "base_uri": "https://localhost:8080/"
        },
        "id": "s8VfXozz2IkJ",
        "outputId": "fdcb073a-052b-40cf-ec32-c834ff40436d"
      },
      "execution_count": null,
      "outputs": [
        {
          "output_type": "execute_result",
          "data": {
            "text/plain": [
              "(442, 10)"
            ]
          },
          "metadata": {},
          "execution_count": 244
        }
      ]
    },
    {
      "cell_type": "code",
      "source": [
        "#Check for NaNs\n",
        "df.isnull().sum().any()"
      ],
      "metadata": {
        "colab": {
          "base_uri": "https://localhost:8080/"
        },
        "id": "yFt4JLS92N77",
        "outputId": "8fde16b1-aadb-42a4-964d-1f2ffec741e5"
      },
      "execution_count": null,
      "outputs": [
        {
          "output_type": "execute_result",
          "data": {
            "text/plain": [
              "False"
            ]
          },
          "metadata": {},
          "execution_count": 245
        }
      ]
    },
    {
      "cell_type": "code",
      "source": [
        "#histogram of target variable- Disease progression\n",
        "n, bins, patches = plt.hist(x = diabetes.target, bins = 100, color = '#0504aa')\n",
        "plt.grid(axis='y', alpha=0.75)\n",
        "plt.xlabel('Target (Disease Progression Value)')\n",
        "plt.ylabel('Probability')\n"
      ],
      "metadata": {
        "colab": {
          "base_uri": "https://localhost:8080/",
          "height": 296
        },
        "id": "SgxJ9Bx22cGq",
        "outputId": "de3698d6-6971-4235-92ec-79e01aa1d0a4"
      },
      "execution_count": null,
      "outputs": [
        {
          "output_type": "execute_result",
          "data": {
            "text/plain": [
              "Text(0, 0.5, 'Probability')"
            ]
          },
          "metadata": {},
          "execution_count": 247
        },
        {
          "output_type": "display_data",
          "data": {
            "image/png": "[encoded data removed]",
            "text/plain": [
              "<Figure size 432x288 with 1 Axes>"
            ]
          },
          "metadata": {
            "needs_background": "light"
          }
        }
      ]
    },
    {
      "cell_type": "code",
      "source": [
        "#scatter plot of BMI\n",
        "plt.scatter(df.bmi, diabetes.target)\n",
        "\n",
        "plt.xlabel('BMI')\n",
        "plt.ylabel('Disease Progression Value')\n",
        "plt.title('BMI scatter plot')\n",
        "plt.show()"
      ],
      "metadata": {
        "colab": {
          "base_uri": "https://localhost:8080/",
          "height": 295
        },
        "id": "3HXXV8L82gp7",
        "outputId": "a65eb918-6f39-431f-ba53-87546251d641"
      },
      "execution_count": null,
      "outputs": [
        {
          "output_type": "display_data",
          "data": {
            "image/png": "[encoded data removed]",
            "text/plain": [
              "<Figure size 432x288 with 1 Axes>"
            ]
          },
          "metadata": {
            "needs_background": "light"
          }
        }
      ]
    },
    {
      "cell_type": "markdown",
      "source": [
        "The scatter plot suggests a positive linear relationship between Body Mass Index (BMI) and the value of disease progression, though this relationship appears to be relatively weak."
      ],
      "metadata": {
        "id": "CxvHpjhjzUoZ"
      }
    },
    {
      "cell_type": "code",
      "source": [
        "#scatter plot of age \n",
        "plt.scatter(df.age, diabetes.target)\n",
        "\n",
        "plt.xlabel('Age')\n",
        "plt.ylabel('Disease Progression Value')\n",
        "plt.title('Age scatter plot')\n",
        "plt.show()"
      ],
      "metadata": {
        "colab": {
          "base_uri": "https://localhost:8080/",
          "height": 295
        },
        "id": "zRXt1tjj2uNm",
        "outputId": "a9ac8e45-6d6f-4b92-8631-dc6039ba4b62"
      },
      "execution_count": null,
      "outputs": [
        {
          "output_type": "display_data",
          "data": {
            "image/png": "[encoded data removed]",
            "text/plain": [
              "<Figure size 432x288 with 1 Axes>"
            ]
          },
          "metadata": {
            "needs_background": "light"
          }
        }
      ]
    },
    {
      "cell_type": "code",
      "source": [
        "#corellation matrix\n",
        "import seaborn as sns\n",
        "df = pd.DataFrame(diabetes.data, columns=diabetes.feature_names)\n",
        "fig, ax = plt.subplots(figsize=(10,8))\n",
        "corrmat = df.corr() # Omit year\n",
        "sns.heatmap(corrmat,-1,1,ax=ax,center=0,annot=True);\n"
      ],
      "metadata": {
        "colab": {
          "base_uri": "https://localhost:8080/",
          "height": 541
        },
        "id": "bNPaJAb32z_K",
        "outputId": "cb211496-c75d-465d-bcf8-29c6319b5de5"
      },
      "execution_count": null,
      "outputs": [
        {
          "output_type": "stream",
          "name": "stderr",
          "text": [
            "/usr/local/lib/python3.7/dist-packages/seaborn/_decorators.py:43: FutureWarning: Pass the following variables as keyword args: vmin, vmax. From version 0.12, the only valid positional argument will be `data`, and passing other arguments without an explicit keyword will result in an error or misinterpretation.\n",
            "  FutureWarning\n"
          ]
        },
        {
          "output_type": "display_data",
          "data": {
            "image/png": "[encoded data removed]",
            "text/plain": [
              "<Figure size 720x576 with 2 Axes>"
            ]
          },
          "metadata": {
            "needs_background": "light"
          }
        }
      ]
    },
    {
      "cell_type": "markdown",
      "source": [
        "The above correlation matrix is a table that shows the strength and direction of the linear relationship between multiple variables. It provides a quick visual representation of how each variable is related to each other variable, making it useful to identify the presence of any linear relationships between variables, determine the strength of those relationships, and uncover any multicollinearity issues. \n",
        "\n",
        "The magnitude of the correlation coefficient indicates the strength of the relationship. A coefficient close to 1 or -1 indicates a strong linear relationship, while a coefficient close to 0 indicates a weak or no linear relationship.\n",
        "\n",
        "#**MODELS:**\n",
        "\n",
        "Single Linear Regression:"
      ],
      "metadata": {
        "id": "GZyT0pcSu3_i"
      }
    },
    {
      "cell_type": "markdown",
      "source": [],
      "metadata": {
        "id": "eyQ9duI9tVMS"
      }
    },
    {
      "cell_type": "code",
      "source": [
        "# single linear regression model \n",
        "# Load the diabetes dataset\n",
        "diabetes_X, diabetes_y = datasets.load_diabetes(return_X_y=True)\n",
        "\n",
        "# Use only one feature\n",
        "diabetes_X = diabetes_X[:, np.newaxis, 2]\n",
        "\n",
        "# Split the data into training/testing sets\n",
        "diabetes_X_train = diabetes_X[:-20]\n",
        "diabetes_X_test = diabetes_X[-20:]\n",
        "\n",
        "# Split the targets into training/testing sets\n",
        "diabetes_y_train = diabetes_y[:-20]\n",
        "diabetes_y_test = diabetes_y[-20:]\n",
        "\n",
        "# Create linear regression object\n",
        "regr = linear_model.LinearRegression()\n",
        "\n",
        "# Train the model using the training sets\n",
        "regr.fit(diabetes_X_train, diabetes_y_train)\n",
        "\n",
        "# Make predictions using the testing set\n",
        "diabetes_y_pred = regr.predict(diabetes_X_test)\n",
        "\n",
        "# The coefficients\n",
        "print(\"Coefficients: \\n\", regr.coef_)\n",
        "# The mean squared error\n",
        "print(\"Mean squared error: %.2f\" % mean_squared_error(diabetes_y_test, diabetes_y_pred))\n",
        "# The coefficient of determination: 1 is perfect prediction\n",
        "print(\"Coefficient of determination: %.2f\" % r2_score(diabetes_y_test, diabetes_y_pred))\n",
        "\n",
        "#print intercept\n",
        "print(\"intercept:\", regr.intercept_)\n",
        "\n",
        "\n",
        "# Plot outputs\n",
        "plt.scatter(diabetes_X_test, diabetes_y_test, color=\"black\")\n",
        "plt.plot(diabetes_X_test, diabetes_y_pred, color=\"blue\", linewidth=3)\n",
        "\n",
        "plt.xticks(())\n",
        "plt.yticks(())\n",
        "\n",
        "plt.show()"
      ],
      "metadata": {
        "colab": {
          "base_uri": "https://localhost:8080/",
          "height": 337
        },
        "id": "gD5_fVsy28SK",
        "outputId": "6219c558-55bb-483a-cb55-142c44a3b84f"
      },
      "execution_count": null,
      "outputs": [
        {
          "output_type": "stream",
          "name": "stdout",
          "text": [
            "Coefficients: \n",
            " [938.23786125]\n",
            "Mean squared error: 2548.07\n",
            "Coefficient of determination: 0.47\n",
            "intercept: 152.91886182616167\n"
          ]
        },
        {
          "output_type": "display_data",
          "data": {
            "image/png": "[encoded data removed]",
            "text/plain": [
              "<Figure size 432x288 with 1 Axes>"
            ]
          },
          "metadata": {}
        }
      ]
    },
    {
      "cell_type": "markdown",
      "source": [
        "We can see from the above result that 47% of the variance in disease progression is explained by BMI."
      ],
      "metadata": {
        "id": "jjTXVBHgvq4A"
      }
    },
    {
      "cell_type": "code",
      "source": [
        "# R squared\n",
        "print('\\nVariance score (R squared): %.2f' % r2_score(diabetes_y_test, diabetes_y_pred))\n"
      ],
      "metadata": {
        "colab": {
          "base_uri": "https://localhost:8080/"
        },
        "id": "CG1v2Wxq2_0V",
        "outputId": "34c1c357-b35f-4ea3-d619-0dffb0608f7c"
      },
      "execution_count": null,
      "outputs": [
        {
          "output_type": "stream",
          "name": "stdout",
          "text": [
            "\n",
            "Variance score (R squared): 0.47\n"
          ]
        }
      ]
    },
    {
      "cell_type": "markdown",
      "source": [
        "Formula: containing the constant term (Intercept) and coeficient.\n",
        "\n",
        "y =  938.2379X + 152.919\n",
        "\n",
        "\n",
        "In the case under consideration, the predictor variable utilized is Body Mass Index (BMI). The results obtained reveal a low p-value, indicating the statistical significance of the findings. Furthermore, the coefficient of determination, R-squared, is found to be .47, suggesting that approximately 47% of the variance in the dependent variable is accounted for by the predictor variable, BMI.\n"
      ],
      "metadata": {
        "id": "Ojk1V1Ncz8_1"
      }
    },
    {
      "cell_type": "code",
      "source": [
        "# Additional accuracy measures\n",
        "# The mean squared error\n",
        "print(\"Mean squared error: %.2f\"\n",
        "      % mean_squared_error(diabetes_y_test, diabetes_y_pred))\n",
        " \n",
        "print(\"Root mean squared error: %.2f\"\n",
        "      % np.sqrt( mean_squared_error(diabetes_y_test, diabetes_y_pred)) )\n",
        " \n",
        "print(\"\\nMean of diabetes target variable = \",diabetes_y_test.mean())\n",
        " \n",
        "print(\"RMSE percentage of diabetes mean = \", \\\n",
        "      100 * np.sqrt( mean_squared_error(diabetes_y_test, diabetes_y_pred))/diabetes_y_test.mean())\n",
        " \n"
      ],
      "metadata": {
        "colab": {
          "base_uri": "https://localhost:8080/"
        },
        "id": "UVWwYBtW3EEu",
        "outputId": "fd5ee2df-3504-4753-9ce3-e343ef10704a"
      },
      "execution_count": null,
      "outputs": [
        {
          "output_type": "stream",
          "name": "stdout",
          "text": [
            "Mean squared error: 2548.07\n",
            "Root mean squared error: 50.48\n",
            "\n",
            "Mean of diabetes target variable =  126.2\n",
            "RMSE percentage of diabetes mean =  39.998759894526835\n"
          ]
        }
      ]
    },
    {
      "cell_type": "markdown",
      "source": [
        "Mean Squared Error (MSE) is a measure of the discrepancy between the observed and predicted values, represented as the average of the squared differences. A low MSE value is desirable, as it implies that a high proportion of the variability in the data can be accounted for by the model.\n",
        "\n",
        "The results obtained in this analysis are indicative of a significant p-value and a satisfactory coefficient of determination (R-squared) value, suggesting that the model presents a strong fit to the data.\n",
        "\n",
        "**Multiple Regression:**"
      ],
      "metadata": {
        "id": "W5Cymmbu8HAJ"
      }
    },
    {
      "cell_type": "code",
      "source": [
        "#multiple regression \n",
        "import statsmodels.api as sm\n",
        "\n",
        "diabetes_X = diabetes.data\n",
        " \n",
        "# Split the data into training/testing sets\n",
        "diabetes_X_train = diabetes_X[:-20]\n",
        "diabetes_X_test = diabetes_X[-20:]\n",
        " \n",
        "# Create linear regression object\n",
        "lm = linear_model.LinearRegression()\n",
        " \n",
        "# Train the model using the training sets\n",
        "fit = lm.fit(diabetes_X_train, diabetes_y_train)\n",
        " \n",
        "# Make predictions using the testing set\n",
        "diabetes_y_pred = fit.predict(diabetes_X_test)\n",
        " \n",
        "# The coefficients\n",
        "print('Coefficients: \\n', fit.coef_)\n",
        "print ( type(fit.coef_))\n",
        " \n",
        "# https://bigdata-madesimple.com/how-to-run-linear-regression-in-python-scikit-learn/\n",
        "# get feature names\n",
        "colnames = np.asarray(df.columns)\n",
        "\n",
        " \n",
        "# https://pandas.pydata.org/pandas-docs/stable/user_guide/merging.html\n",
        "df_col = pd.DataFrame( data = np.asarray(df.columns)  )\n",
        "df_coef = pd.DataFrame( data = fit.coef_)\n",
        "df_tbl =  pd.concat ( [df_col, df_coef] , axis = 1 )\n",
        "df_tbl.columns = ['Columns', 'Coefficients']\n",
        "df_tbl\n",
        " \n",
        "\n",
        "#  scipy.stats OLS linear regression model\n",
        "X_train = sm.add_constant(diabetes_X_train)\n",
        "lm = sm.OLS(diabetes_y_train, X_train).fit()\n",
        "lm.summary()"
      ],
      "metadata": {
        "colab": {
          "base_uri": "https://localhost:8080/",
          "height": 718
        },
        "id": "jdO3nUSe330G",
        "outputId": "be928e0f-d1d6-41e0-a999-57d6b1a1226e"
      },
      "execution_count": null,
      "outputs": [
        {
          "output_type": "stream",
          "name": "stdout",
          "text": [
            "Coefficients: \n",
            " [ 3.03499549e-01 -2.37639315e+02  5.10530605e+02  3.27736980e+02\n",
            " -8.14131709e+02  4.92814588e+02  1.02848452e+02  1.84606489e+02\n",
            "  7.43519617e+02  7.60951722e+01]\n",
            "<class 'numpy.ndarray'>\n"
          ]
        },
        {
          "output_type": "execute_result",
          "data": {
            "text/html": [
              "<table class=\"simpletable\">\n",
              "<caption>OLS Regression Results</caption>\n",
              "<tr>\n",
              "  <th>Dep. Variable:</th>            <td>y</td>        <th>  R-squared:         </th> <td>   0.512</td>\n",
              "</tr>\n",
              "<tr>\n",
              "  <th>Model:</th>                   <td>OLS</td>       <th>  Adj. R-squared:    </th> <td>   0.500</td>\n",
              "</tr>\n",
              "<tr>\n",
              "  <th>Method:</th>             <td>Least Squares</td>  <th>  F-statistic:       </th> <td>   43.16</td>\n",
              "</tr>\n",
              "<tr>\n",
              "  <th>Date:</th>             <td>Sat, 19 Feb 2022</td> <th>  Prob (F-statistic):</th> <td>4.64e-58</td>\n",
              "</tr>\n",
              "<tr>\n",
              "  <th>Time:</th>                 <td>02:48:04</td>     <th>  Log-Likelihood:    </th> <td> -2281.1</td>\n",
              "</tr>\n",
              "<tr>\n",
              "  <th>No. Observations:</th>      <td>   422</td>      <th>  AIC:               </th> <td>   4584.</td>\n",
              "</tr>\n",
              "<tr>\n",
              "  <th>Df Residuals:</th>          <td>   411</td>      <th>  BIC:               </th> <td>   4629.</td>\n",
              "</tr>\n",
              "<tr>\n",
              "  <th>Df Model:</th>              <td>    10</td>      <th>                     </th>     <td> </td>   \n",
              "</tr>\n",
              "<tr>\n",
              "  <th>Covariance Type:</th>      <td>nonrobust</td>    <th>                     </th>     <td> </td>   \n",
              "</tr>\n",
              "</table>\n",
              "<table class=\"simpletable\">\n",
              "<tr>\n",
              "    <td></td>       <th>coef</th>     <th>std err</th>      <th>t</th>      <th>P>|t|</th>  <th>[0.025</th>    <th>0.975]</th>  \n",
              "</tr>\n",
              "<tr>\n",
              "  <th>const</th> <td>  152.7643</td> <td>    2.658</td> <td>   57.469</td> <td> 0.000</td> <td>  147.539</td> <td>  157.990</td>\n",
              "</tr>\n",
              "<tr>\n",
              "  <th>x1</th>    <td>    0.3035</td> <td>   61.286</td> <td>    0.005</td> <td> 0.996</td> <td> -120.169</td> <td>  120.776</td>\n",
              "</tr>\n",
              "<tr>\n",
              "  <th>x2</th>    <td> -237.6393</td> <td>   62.837</td> <td>   -3.782</td> <td> 0.000</td> <td> -361.162</td> <td> -114.117</td>\n",
              "</tr>\n",
              "<tr>\n",
              "  <th>x3</th>    <td>  510.5306</td> <td>   68.156</td> <td>    7.491</td> <td> 0.000</td> <td>  376.553</td> <td>  644.508</td>\n",
              "</tr>\n",
              "<tr>\n",
              "  <th>x4</th>    <td>  327.7370</td> <td>   66.876</td> <td>    4.901</td> <td> 0.000</td> <td>  196.275</td> <td>  459.199</td>\n",
              "</tr>\n",
              "<tr>\n",
              "  <th>x5</th>    <td> -814.1317</td> <td>  424.044</td> <td>   -1.920</td> <td> 0.056</td> <td>-1647.697</td> <td>   19.434</td>\n",
              "</tr>\n",
              "<tr>\n",
              "  <th>x6</th>    <td>  492.8146</td> <td>  344.227</td> <td>    1.432</td> <td> 0.153</td> <td> -183.850</td> <td> 1169.480</td>\n",
              "</tr>\n",
              "<tr>\n",
              "  <th>x7</th>    <td>  102.8485</td> <td>  219.463</td> <td>    0.469</td> <td> 0.640</td> <td> -328.561</td> <td>  534.258</td>\n",
              "</tr>\n",
              "<tr>\n",
              "  <th>x8</th>    <td>  184.6065</td> <td>  167.336</td> <td>    1.103</td> <td> 0.271</td> <td> -144.334</td> <td>  513.547</td>\n",
              "</tr>\n",
              "<tr>\n",
              "  <th>x9</th>    <td>  743.5196</td> <td>  175.359</td> <td>    4.240</td> <td> 0.000</td> <td>  398.807</td> <td> 1088.232</td>\n",
              "</tr>\n",
              "<tr>\n",
              "  <th>x10</th>   <td>   76.0952</td> <td>   68.293</td> <td>    1.114</td> <td> 0.266</td> <td>  -58.152</td> <td>  210.343</td>\n",
              "</tr>\n",
              "</table>\n",
              "<table class=\"simpletable\">\n",
              "<tr>\n",
              "  <th>Omnibus:</th>       <td> 1.544</td> <th>  Durbin-Watson:     </th> <td>   2.026</td>\n",
              "</tr>\n",
              "<tr>\n",
              "  <th>Prob(Omnibus):</th> <td> 0.462</td> <th>  Jarque-Bera (JB):  </th> <td>   1.421</td>\n",
              "</tr>\n",
              "<tr>\n",
              "  <th>Skew:</th>          <td> 0.004</td> <th>  Prob(JB):          </th> <td>   0.491</td>\n",
              "</tr>\n",
              "<tr>\n",
              "  <th>Kurtosis:</th>      <td> 2.716</td> <th>  Cond. No.          </th> <td>    224.</td>\n",
              "</tr>\n",
              "</table><br/><br/>Warnings:<br/>[1] Standard Errors assume that the covariance matrix of the errors is correctly specified."
            ],
            "text/plain": [
              "<class 'statsmodels.iolib.summary.Summary'>\n",
              "\"\"\"\n",
              "                            OLS Regression Results                            \n",
              "==============================================================================\n",
              "Dep. Variable:                      y   R-squared:                       0.512\n",
              "Model:                            OLS   Adj. R-squared:                  0.500\n",
              "Method:                 Least Squares   F-statistic:                     43.16\n",
              "Date:                Sat, 19 Feb 2022   Prob (F-statistic):           4.64e-58\n",
              "Time:                        02:48:04   Log-Likelihood:                -2281.1\n",
              "No. Observations:                 422   AIC:                             4584.\n",
              "Df Residuals:                     411   BIC:                             4629.\n",
              "Df Model:                          10                                         \n",
              "Covariance Type:            nonrobust                                         \n",
              "==============================================================================\n",
              "                 coef    std err          t      P>|t|      [0.025      0.975]\n",
              "------------------------------------------------------------------------------\n",
              "const        152.7643      2.658     57.469      0.000     147.539     157.990\n",
              "x1             0.3035     61.286      0.005      0.996    -120.169     120.776\n",
              "x2          -237.6393     62.837     -3.782      0.000    -361.162    -114.117\n",
              "x3           510.5306     68.156      7.491      0.000     376.553     644.508\n",
              "x4           327.7370     66.876      4.901      0.000     196.275     459.199\n",
              "x5          -814.1317    424.044     -1.920      0.056   -1647.697      19.434\n",
              "x6           492.8146    344.227      1.432      0.153    -183.850    1169.480\n",
              "x7           102.8485    219.463      0.469      0.640    -328.561     534.258\n",
              "x8           184.6065    167.336      1.103      0.271    -144.334     513.547\n",
              "x9           743.5196    175.359      4.240      0.000     398.807    1088.232\n",
              "x10           76.0952     68.293      1.114      0.266     -58.152     210.343\n",
              "==============================================================================\n",
              "Omnibus:                        1.544   Durbin-Watson:                   2.026\n",
              "Prob(Omnibus):                  0.462   Jarque-Bera (JB):                1.421\n",
              "Skew:                           0.004   Prob(JB):                        0.491\n",
              "Kurtosis:                       2.716   Cond. No.                         224.\n",
              "==============================================================================\n",
              "\n",
              "Warnings:\n",
              "[1] Standard Errors assume that the covariance matrix of the errors is correctly specified.\n",
              "\"\"\""
            ]
          },
          "metadata": {},
          "execution_count": 254
        }
      ]
    },
    {
      "cell_type": "markdown",
      "source": [
        "The results above are from an Ordinary Least Squares (OLS) regression analysis, which is a type of linear regression that models the relationship between one dependent variable (y) and one or more independent variables (x1, x2, ... x10).\n",
        "\n",
        "The coefficients section of the result shows the estimated coefficients for each independent variable in the model. The coefficients are used to calculate the predicted value of the dependent variable based on the values of the independent variables.\n",
        "\n",
        "The R-squared value of 0.512 indicates that 51.2% of the variability in the dependent variable can be explained by the independent variables in the model. The adjusted R-squared takes into account the number of independent variables in the model, and the value of 0.500 indicates that 50% of the variability can be explained while accounting for the number of variables.\n",
        "\n",
        "The F-statistic and its associated p-value provide a test of the overall significance of the model. A low p-value (in this case, 4.64e-58) indicates that the model is significant.\n",
        "\n",
        "\n",
        "\n"
      ],
      "metadata": {
        "id": "m5cArMzM5Vrd"
      }
    },
    {
      "cell_type": "code",
      "source": [
        "#multiple regression model\n",
        "\n",
        "\n",
        "df_col = pd.DataFrame( data = np.asarray(df.columns)  )\n",
        "df_coef = pd.DataFrame( data = lm.params[1:])\n",
        "df_var = pd.DataFrame( data = [\"x1\", \"x2\", \"x3\", \"x4\", \"x5\", \"x6\", \"x7\", \"x8\", \"x9\", \"x10\"])\n",
        "df_p = pd.DataFrame( data = lm.pvalues[1:])\n",
        "df_tbl =  pd.concat ( [df_var, df_col, df_coef, df_p] , axis = 1 )\n",
        "df_tbl.columns = [' Model Variable', 'Variable Name', 'Coefficients', 'P-Value']\n",
        "df_tbl\n",
        "\n"
      ],
      "metadata": {
        "colab": {
          "base_uri": "https://localhost:8080/",
          "height": 359
        },
        "id": "0jg2vLpX3Qxj",
        "outputId": "2df6140d-e87e-468c-f9e6-90039644acb4"
      },
      "execution_count": null,
      "outputs": [
        {
          "output_type": "execute_result",
          "data": {
            "text/html": [
              "\n",
              "  <div id=\"df-8cd5033d-0ab9-4c2e-b142-90d8fad5b21b\">\n",
              "    <div class=\"colab-df-container\">\n",
              "      <div>\n",
              "<style scoped>\n",
              "    .dataframe tbody tr th:only-of-type {\n",
              "        vertical-align: middle;\n",
              "    }\n",
              "\n",
              "    .dataframe tbody tr th {\n",
              "        vertical-align: top;\n",
              "    }\n",
              "\n",
              "    .dataframe thead th {\n",
              "        text-align: right;\n",
              "    }\n",
              "</style>\n",
              "<table border=\"1\" class=\"dataframe\">\n",
              "  <thead>\n",
              "    <tr style=\"text-align: right;\">\n",
              "      <th></th>\n",
              "      <th>Model Variable</th>\n",
              "      <th>Variable Name</th>\n",
              "      <th>Coefficients</th>\n",
              "      <th>P-Value</th>\n",
              "    </tr>\n",
              "  </thead>\n",
              "  <tbody>\n",
              "    <tr>\n",
              "      <th>0</th>\n",
              "      <td>x1</td>\n",
              "      <td>age</td>\n",
              "      <td>0.303500</td>\n",
              "      <td>9.960511e-01</td>\n",
              "    </tr>\n",
              "    <tr>\n",
              "      <th>1</th>\n",
              "      <td>x2</td>\n",
              "      <td>sex</td>\n",
              "      <td>-237.639315</td>\n",
              "      <td>1.787768e-04</td>\n",
              "    </tr>\n",
              "    <tr>\n",
              "      <th>2</th>\n",
              "      <td>x3</td>\n",
              "      <td>bmi</td>\n",
              "      <td>510.530605</td>\n",
              "      <td>4.230966e-13</td>\n",
              "    </tr>\n",
              "    <tr>\n",
              "      <th>3</th>\n",
              "      <td>x4</td>\n",
              "      <td>bp</td>\n",
              "      <td>327.736980</td>\n",
              "      <td>1.376978e-06</td>\n",
              "    </tr>\n",
              "    <tr>\n",
              "      <th>4</th>\n",
              "      <td>x5</td>\n",
              "      <td>s1</td>\n",
              "      <td>-814.131709</td>\n",
              "      <td>5.555949e-02</td>\n",
              "    </tr>\n",
              "    <tr>\n",
              "      <th>5</th>\n",
              "      <td>x6</td>\n",
              "      <td>s2</td>\n",
              "      <td>492.814588</td>\n",
              "      <td>1.530022e-01</td>\n",
              "    </tr>\n",
              "    <tr>\n",
              "      <th>6</th>\n",
              "      <td>x7</td>\n",
              "      <td>s3</td>\n",
              "      <td>102.848452</td>\n",
              "      <td>6.395776e-01</td>\n",
              "    </tr>\n",
              "    <tr>\n",
              "      <th>7</th>\n",
              "      <td>x8</td>\n",
              "      <td>s4</td>\n",
              "      <td>184.606489</td>\n",
              "      <td>2.705814e-01</td>\n",
              "    </tr>\n",
              "    <tr>\n",
              "      <th>8</th>\n",
              "      <td>x9</td>\n",
              "      <td>s5</td>\n",
              "      <td>743.519617</td>\n",
              "      <td>2.763327e-05</td>\n",
              "    </tr>\n",
              "    <tr>\n",
              "      <th>9</th>\n",
              "      <td>x10</td>\n",
              "      <td>s6</td>\n",
              "      <td>76.095172</td>\n",
              "      <td>2.658265e-01</td>\n",
              "    </tr>\n",
              "  </tbody>\n",
              "</table>\n",
              "</div>\n",
              "      <button class=\"colab-df-convert\" onclick=\"convertToInteractive('df-8cd5033d-0ab9-4c2e-b142-90d8fad5b21b')\"\n",
              "              title=\"Convert this dataframe to an interactive table.\"\n",
              "              style=\"display:none;\">\n",
              "        \n",
              "  <svg xmlns=\"http://www.w3.org/2000/svg\" height=\"24px\"viewBox=\"0 0 24 24\"\n",
              "       width=\"24px\">\n",
              "    <path d=\"M0 0h24v24H0V0z\" fill=\"none\"/>\n",
              "    <path d=\"M18.56 5.44l.94 2.06.94-2.06 2.06-.94-2.06-.94-.94-2.06-.94 2.06-2.06.94zm-11 1L8.5 8.5l.94-2.06 2.06-.94-2.06-.94L8.5 2.5l-.94 2.06-2.06.94zm10 10l.94 2.06.94-2.06 2.06-.94-2.06-.94-.94-2.06-.94 2.06-2.06.94z\"/><path d=\"M17.41 7.96l-1.37-1.37c-.4-.4-.92-.59-1.43-.59-.52 0-1.04.2-1.43.59L10.3 9.45l-7.72 7.72c-.78.78-.78 2.05 0 2.83L4 21.41c.39.39.9.59 1.41.59.51 0 1.02-.2 1.41-.59l7.78-7.78 2.81-2.81c.8-.78.8-2.07 0-2.86zM5.41 20L4 18.59l7.72-7.72 1.47 1.35L5.41 20z\"/>\n",
              "  </svg>\n",
              "      </button>\n",
              "      \n",
              "  <style>\n",
              "    .colab-df-container {\n",
              "      display:flex;\n",
              "      flex-wrap:wrap;\n",
              "      gap: 12px;\n",
              "    }\n",
              "\n",
              "    .colab-df-convert {\n",
              "      background-color: #E8F0FE;\n",
              "      border: none;\n",
              "      border-radius: 50%;\n",
              "      cursor: pointer;\n",
              "      display: none;\n",
              "      fill: #1967D2;\n",
              "      height: 32px;\n",
              "      padding: 0 0 0 0;\n",
              "      width: 32px;\n",
              "    }\n",
              "\n",
              "    .colab-df-convert:hover {\n",
              "      background-color: #E2EBFA;\n",
              "      box-shadow: 0px 1px 2px rgba(60, 64, 67, 0.3), 0px 1px 3px 1px rgba(60, 64, 67, 0.15);\n",
              "      fill: #174EA6;\n",
              "    }\n",
              "\n",
              "    [theme=dark] .colab-df-convert {\n",
              "      background-color: #3B4455;\n",
              "      fill: #D2E3FC;\n",
              "    }\n",
              "\n",
              "    [theme=dark] .colab-df-convert:hover {\n",
              "      background-color: #434B5C;\n",
              "      box-shadow: 0px 1px 3px 1px rgba(0, 0, 0, 0.15);\n",
              "      filter: drop-shadow(0px 1px 2px rgba(0, 0, 0, 0.3));\n",
              "      fill: #FFFFFF;\n",
              "    }\n",
              "  </style>\n",
              "\n",
              "      <script>\n",
              "        const buttonEl =\n",
              "          document.querySelector('#df-8cd5033d-0ab9-4c2e-b142-90d8fad5b21b button.colab-df-convert');\n",
              "        buttonEl.style.display =\n",
              "          google.colab.kernel.accessAllowed ? 'block' : 'none';\n",
              "\n",
              "        async function convertToInteractive(key) {\n",
              "          const element = document.querySelector('#df-8cd5033d-0ab9-4c2e-b142-90d8fad5b21b');\n",
              "          const dataTable =\n",
              "            await google.colab.kernel.invokeFunction('convertToInteractive',\n",
              "                                                     [key], {});\n",
              "          if (!dataTable) return;\n",
              "\n",
              "          const docLinkHtml = 'Like what you see? Visit the ' +\n",
              "            '<a target=\"_blank\" href=https://colab.research.google.com/notebooks/data_table.ipynb>data table notebook</a>'\n",
              "            + ' to learn more about interactive tables.';\n",
              "          element.innerHTML = '';\n",
              "          dataTable['output_type'] = 'display_data';\n",
              "          await google.colab.output.renderOutput(dataTable, element);\n",
              "          const docLink = document.createElement('div');\n",
              "          docLink.innerHTML = docLinkHtml;\n",
              "          element.appendChild(docLink);\n",
              "        }\n",
              "      </script>\n",
              "    </div>\n",
              "  </div>\n",
              "  "
            ],
            "text/plain": [
              "   Model Variable Variable Name  Coefficients       P-Value\n",
              "0              x1           age      0.303500  9.960511e-01\n",
              "1              x2           sex   -237.639315  1.787768e-04\n",
              "2              x3           bmi    510.530605  4.230966e-13\n",
              "3              x4            bp    327.736980  1.376978e-06\n",
              "4              x5            s1   -814.131709  5.555949e-02\n",
              "5              x6            s2    492.814588  1.530022e-01\n",
              "6              x7            s3    102.848452  6.395776e-01\n",
              "7              x8            s4    184.606489  2.705814e-01\n",
              "8              x9            s5    743.519617  2.763327e-05\n",
              "9             x10            s6     76.095172  2.658265e-01"
            ]
          },
          "metadata": {},
          "execution_count": 255
        }
      ]
    },
    {
      "cell_type": "markdown",
      "source": [
        "Formula:\n",
        "\n",
        "0.3035X1- 237.64X2+ 510.5X3 + .....76.09X10 +  152.764\n",
        "\n",
        "\n",
        "x1-x10 variables and their corresponding coefficients.\n",
        "\n",
        "\n",
        "We have variables with P-values greater than 0.05, that indicates there is no significant relationship with the target variable for those select independent variables. We would want to drop the variables with P-values greater than .05 and see how our model would perform.\n",
        "\n"
      ],
      "metadata": {
        "id": "7vvpKpLM5XC7"
      }
    },
    {
      "cell_type": "code",
      "source": [
        "# Convert to a dataframe \n",
        "df_diabetes_X_train = pd.DataFrame(diabetes_X_train)\n",
        "df_diabetes_X_train.columns = [\"x1\", \"x2\", \"x3\", \"x4\", \"x5\", \"x6\", \"x7\", \"x8\", \"x9\", \"x10\"]\n",
        "\n",
        "\n",
        "# Bases on the summary, I need to remove x1, x5, x6, x7, x8,x10\n",
        "columns_to_keep = [\"x2\", \"x3\", \"x4\", \"x9\"]\n",
        "df_diabetes_X_train = df_diabetes_X_train[columns_to_keep]\n",
        "\n",
        "diabetes_X_train = df_diabetes_X_train[:-20]\n",
        "diabetes_X_test = df_diabetes_X_train[-20:]\n",
        "\n",
        "\n",
        "# Use the .values method of data frame to get rows in array form \n",
        "X_train = df_diabetes_X_train.values\n",
        "\n",
        "# Add constant\n",
        "X_train = sm.add_constant(X_train)\n",
        "\n",
        "# Fit new model\n",
        "lm2 = sm.OLS(diabetes_y_train, X_train).fit()\n",
        "lm2.summary()"
      ],
      "metadata": {
        "colab": {
          "base_uri": "https://localhost:8080/",
          "height": 507
        },
        "id": "-1m4ozU63X_i",
        "outputId": "c45ae7b6-c1d0-4a67-9001-f5396d53baa5"
      },
      "execution_count": null,
      "outputs": [
        {
          "output_type": "execute_result",
          "data": {
            "text/html": [
              "<table class=\"simpletable\">\n",
              "<caption>OLS Regression Results</caption>\n",
              "<tr>\n",
              "  <th>Dep. Variable:</th>            <td>y</td>        <th>  R-squared:         </th> <td>   0.480</td>\n",
              "</tr>\n",
              "<tr>\n",
              "  <th>Model:</th>                   <td>OLS</td>       <th>  Adj. R-squared:    </th> <td>   0.475</td>\n",
              "</tr>\n",
              "<tr>\n",
              "  <th>Method:</th>             <td>Least Squares</td>  <th>  F-statistic:       </th> <td>   96.12</td>\n",
              "</tr>\n",
              "<tr>\n",
              "  <th>Date:</th>             <td>Sat, 19 Feb 2022</td> <th>  Prob (F-statistic):</th> <td>6.96e-58</td>\n",
              "</tr>\n",
              "<tr>\n",
              "  <th>Time:</th>                 <td>02:48:05</td>     <th>  Log-Likelihood:    </th> <td> -2294.7</td>\n",
              "</tr>\n",
              "<tr>\n",
              "  <th>No. Observations:</th>      <td>   422</td>      <th>  AIC:               </th> <td>   4599.</td>\n",
              "</tr>\n",
              "<tr>\n",
              "  <th>Df Residuals:</th>          <td>   417</td>      <th>  BIC:               </th> <td>   4620.</td>\n",
              "</tr>\n",
              "<tr>\n",
              "  <th>Df Model:</th>              <td>     4</td>      <th>                     </th>     <td> </td>   \n",
              "</tr>\n",
              "<tr>\n",
              "  <th>Covariance Type:</th>      <td>nonrobust</td>    <th>                     </th>     <td> </td>   \n",
              "</tr>\n",
              "</table>\n",
              "<table class=\"simpletable\">\n",
              "<tr>\n",
              "    <td></td>       <th>coef</th>     <th>std err</th>      <th>t</th>      <th>P>|t|</th>  <th>[0.025</th>    <th>0.975]</th>  \n",
              "</tr>\n",
              "<tr>\n",
              "  <th>const</th> <td>  152.8790</td> <td>    2.725</td> <td>   56.112</td> <td> 0.000</td> <td>  147.523</td> <td>  158.235</td>\n",
              "</tr>\n",
              "<tr>\n",
              "  <th>x1</th>    <td> -131.8626</td> <td>   58.938</td> <td>   -2.237</td> <td> 0.026</td> <td> -247.715</td> <td>  -16.011</td>\n",
              "</tr>\n",
              "<tr>\n",
              "  <th>x2</th>    <td>  593.1621</td> <td>   65.915</td> <td>    8.999</td> <td> 0.000</td> <td>  463.595</td> <td>  722.729</td>\n",
              "</tr>\n",
              "<tr>\n",
              "  <th>x3</th>    <td>  298.1175</td> <td>   65.412</td> <td>    4.558</td> <td> 0.000</td> <td>  169.540</td> <td>  426.695</td>\n",
              "</tr>\n",
              "<tr>\n",
              "  <th>x4</th>    <td>  547.0556</td> <td>   65.697</td> <td>    8.327</td> <td> 0.000</td> <td>  417.916</td> <td>  676.195</td>\n",
              "</tr>\n",
              "</table>\n",
              "<table class=\"simpletable\">\n",
              "<tr>\n",
              "  <th>Omnibus:</th>       <td> 5.134</td> <th>  Durbin-Watson:     </th> <td>   1.980</td>\n",
              "</tr>\n",
              "<tr>\n",
              "  <th>Prob(Omnibus):</th> <td> 0.077</td> <th>  Jarque-Bera (JB):  </th> <td>   3.979</td>\n",
              "</tr>\n",
              "<tr>\n",
              "  <th>Skew:</th>          <td> 0.123</td> <th>  Prob(JB):          </th> <td>   0.137</td>\n",
              "</tr>\n",
              "<tr>\n",
              "  <th>Kurtosis:</th>      <td> 2.593</td> <th>  Cond. No.          </th> <td>    28.1</td>\n",
              "</tr>\n",
              "</table><br/><br/>Warnings:<br/>[1] Standard Errors assume that the covariance matrix of the errors is correctly specified."
            ],
            "text/plain": [
              "<class 'statsmodels.iolib.summary.Summary'>\n",
              "\"\"\"\n",
              "                            OLS Regression Results                            \n",
              "==============================================================================\n",
              "Dep. Variable:                      y   R-squared:                       0.480\n",
              "Model:                            OLS   Adj. R-squared:                  0.475\n",
              "Method:                 Least Squares   F-statistic:                     96.12\n",
              "Date:                Sat, 19 Feb 2022   Prob (F-statistic):           6.96e-58\n",
              "Time:                        02:48:05   Log-Likelihood:                -2294.7\n",
              "No. Observations:                 422   AIC:                             4599.\n",
              "Df Residuals:                     417   BIC:                             4620.\n",
              "Df Model:                           4                                         \n",
              "Covariance Type:            nonrobust                                         \n",
              "==============================================================================\n",
              "                 coef    std err          t      P>|t|      [0.025      0.975]\n",
              "------------------------------------------------------------------------------\n",
              "const        152.8790      2.725     56.112      0.000     147.523     158.235\n",
              "x1          -131.8626     58.938     -2.237      0.026    -247.715     -16.011\n",
              "x2           593.1621     65.915      8.999      0.000     463.595     722.729\n",
              "x3           298.1175     65.412      4.558      0.000     169.540     426.695\n",
              "x4           547.0556     65.697      8.327      0.000     417.916     676.195\n",
              "==============================================================================\n",
              "Omnibus:                        5.134   Durbin-Watson:                   1.980\n",
              "Prob(Omnibus):                  0.077   Jarque-Bera (JB):                3.979\n",
              "Skew:                           0.123   Prob(JB):                        0.137\n",
              "Kurtosis:                       2.593   Cond. No.                         28.1\n",
              "==============================================================================\n",
              "\n",
              "Warnings:\n",
              "[1] Standard Errors assume that the covariance matrix of the errors is correctly specified.\n",
              "\"\"\""
            ]
          },
          "metadata": {},
          "execution_count": 256
        }
      ]
    },
    {
      "cell_type": "markdown",
      "source": [
        "formula = -131.86.(sex) + 593.516(BMI) + 298.11(bP)+ 547.1(s5) +152.8\n",
        "\n",
        "#conclusion:\n",
        "\n",
        "In conclusion, after evaluating multiple regression models, the second model was found to be the most suitable for predicting diabetes disease progression. This was determined by its high R squared value and the absence of predictor variables with insignificant P-values. The results indicate that the selected predictor variables (Sex, BMI, BP, and S5) significantly contribute to the explanation of the target variable, while the remaining variables were found to have no statistically significant relationship. \n",
        "\n",
        "The coefficient values of each predictor variable reveal the magnitude and direction of their effect on the target variable, allowing us to make predictions using the regression formula. This analysis supports the conclusion that there are meaningful relationships between the predictor variables and diabetes disease progression, providing valuable insights into the underlying mechanisms of the disease\n",
        "\n",
        "\n"
      ],
      "metadata": {
        "id": "YwWoVfwmf90p"
      }
    }
  ]
}